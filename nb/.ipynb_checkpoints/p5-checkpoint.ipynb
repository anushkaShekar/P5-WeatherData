{
 "cells": [
  {
   "cell_type": "markdown",
   "id": "3d06629a-047c-44bc-9d5d-ebc596bc5e84",
   "metadata": {},
   "source": [
    "# Part 1: Station Metadata"
   ]
  },
  {
   "cell_type": "code",
   "execution_count": 4,
   "id": "d57f0d7d-51a5-420c-b2ae-466ba5ce809c",
   "metadata": {},
   "outputs": [],
   "source": [
    "from cassandra.cluster import Cluster\n",
    "try:\n",
    "    cluster = Cluster(['project-5-anushkap5-db-1', 'project-5-anushkap5-db-2', 'project-5-anushkap5-db-3'])\n",
    "    session = cluster.connect()\n",
    "except Exception as e:\n",
    "    print(e)"
   ]
  },
  {
   "cell_type": "code",
   "execution_count": 5,
   "id": "499b5adb-cd81-4325-b960-812439a84632",
   "metadata": {},
   "outputs": [
    {
     "data": {
      "text/plain": [
       "<cassandra.cluster.ResultSet at 0x7f3f300b9750>"
      ]
     },
     "execution_count": 5,
     "metadata": {},
     "output_type": "execute_result"
    }
   ],
   "source": [
    "session.execute(\"drop keyspace if exists weather\")"
   ]
  },
  {
   "cell_type": "code",
   "execution_count": 13,
   "id": "6705fa9c-3ba4-4501-b02b-a945b6736b87",
   "metadata": {},
   "outputs": [],
   "source": [
    "# Creating a weather keyspace with 3x replication\n",
    "session.execute(\"\"\"\n",
    "CREATE KEYSPACE weather\n",
    "WITH REPLICATION = { \n",
    "'class' : 'SimpleStrategy', \n",
    "'replication_factor' : 13\n",
    "};\n",
    "\"\"\")"
   ]
  },
  {
   "cell_type": "code",
   "execution_count": 16,
   "id": "feec4e0e-d50b-4554-b0bf-8b9f9f373233",
   "metadata": {},
   "outputs": [
    {
     "data": {
      "text/plain": [
       "<cassandra.cluster.ResultSet at 0x7f3f23725ae0>"
      ]
     },
     "execution_count": 16,
     "metadata": {},
     "output_type": "execute_result"
    }
   ],
   "source": [
    "# Creating a station_record type containing two ints: tmin and tmax\n",
    "session.execute(\"use weather\")\n",
    "session.execute(\"create type station_record (tmin int, tmax int)\")"
   ]
  },
  {
   "cell_type": "code",
   "execution_count": 19,
   "id": "eedda804-5576-4b9d-9fcc-51c3832252aa",
   "metadata": {},
   "outputs": [
    {
     "data": {
      "text/plain": [
       "<cassandra.cluster.ResultSet at 0x7f3f23b63850>"
      ]
     },
     "execution_count": 19,
     "metadata": {},
     "output_type": "execute_result"
    }
   ],
   "source": [
    "# Creating a stations table inside weather\n",
    "session.execute(\"\"\"\n",
    "CREATE TABLE stations (\n",
    "    id text,\n",
    "    date date,\n",
    "    name text STATIC,\n",
    "    record weather.station_record,\n",
    "    PRIMARY KEY (id, date)\n",
    ") WITH CLUSTERING ORDER BY (date ASC)\n",
    "\"\"\")"
   ]
  },
  {
   "cell_type": "markdown",
   "id": "ef4798b0-d917-48e9-be47-6d3d431b90d0",
   "metadata": {},
   "source": [
    "## Q1: what is the schema?"
   ]
  },
  {
   "cell_type": "code",
   "execution_count": 21,
   "id": "80396888-972b-4579-84ef-843d41d79992",
   "metadata": {},
   "outputs": [
    {
     "name": "stdout",
     "output_type": "stream",
     "text": [
      "CREATE KEYSPACE weather WITH replication = {'class': 'SimpleStrategy', 'replication_factor': '13'}  AND durable_writes = true;\n",
      "CREATE TABLE weather.stations (\n",
      "    id text,\n",
      "    date date,\n",
      "    name text static,\n",
      "    record station_record,\n",
      "    PRIMARY KEY (id, date)\n",
      ") WITH CLUSTERING ORDER BY (date ASC)\n",
      "    AND additional_write_policy = '99p'\n",
      "    AND bloom_filter_fp_chance = 0.01\n",
      "    AND caching = {'keys': 'ALL', 'rows_per_partition': 'NONE'}\n",
      "    AND cdc = false\n",
      "    AND comment = ''\n",
      "    AND compaction = {'class': 'org.apache.cassandra.db.compaction.SizeTieredCompactionStrategy', 'max_threshold': '32', 'min_threshold': '4'}\n",
      "    AND compression = {'chunk_length_in_kb': '16', 'class': 'org.apache.cassandra.io.compress.LZ4Compressor'}\n",
      "    AND crc_check_chance = 1.0\n",
      "    AND default_time_to_live = 0\n",
      "    AND extensions = {}\n",
      "    AND gc_grace_seconds = 864000\n",
      "    AND max_index_interval = 2048\n",
      "    AND memtable_flush_period_in_ms = 0\n",
      "    AND min_index_interval = 128\n",
      "    AND read_repair = 'BLOCKING'\n",
      "    AND speculative_retry = '99p';\n"
     ]
    }
   ],
   "source": [
    "print(session.execute(\"describe keyspace weather\").one().create_statement)\n",
    "print(session.execute(\"describe table weather.stations\").one().create_statement)"
   ]
  },
  {
   "cell_type": "code",
   "execution_count": 157,
   "id": "a3402346-340e-473c-86e2-20189d0336b4",
   "metadata": {},
   "outputs": [],
   "source": [
    "# Starting a Spark session\n",
    "from pyspark.sql import SparkSession\n",
    "spark = (SparkSession.builder\n",
    "         .appName(\"p5\")\n",
    "         .config('spark.jars.packages', 'com.datastax.spark:spark-cassandra-connector_2.12:3.2.0')\n",
    "         .config(\"spark.sql.extensions\", \"com.datastax.spark.connector.CassandraSparkExtensions\")\n",
    "         .getOrCreate())"
   ]
  },
  {
   "cell_type": "code",
   "execution_count": 24,
   "id": "c50b6ae3-3e8e-45d4-8711-0b76994c65c3",
   "metadata": {},
   "outputs": [
    {
     "name": "stdout",
     "output_type": "stream",
     "text": [
      "--2023-04-10 01:33:08--  https://pages.cs.wisc.edu/~harter/cs639/data/ghcnd-stations.txt\n",
      "Resolving pages.cs.wisc.edu (pages.cs.wisc.edu)... 128.105.7.9\n",
      "Connecting to pages.cs.wisc.edu (pages.cs.wisc.edu)|128.105.7.9|:443... connected.\n",
      "HTTP request sent, awaiting response... 200 OK\n",
      "Length: 10607756 (10M) [text/plain]\n",
      "Saving to: ‘ghcnd-stations.txt’\n",
      "\n",
      "ghcnd-stations.txt  100%[===================>]  10.12M  34.4MB/s    in 0.3s    \n",
      "\n",
      "2023-04-10 01:33:09 (34.4 MB/s) - ‘ghcnd-stations.txt’ saved [10607756/10607756]\n",
      "\n"
     ]
    }
   ],
   "source": [
    "# Downloading txt file\n",
    "! wget https://pages.cs.wisc.edu/~harter/cs639/data/ghcnd-stations.txt"
   ]
  },
  {
   "cell_type": "code",
   "execution_count": 203,
   "id": "02a7840b-ef9c-4d5b-96d9-1b0993608b55",
   "metadata": {},
   "outputs": [],
   "source": [
    "# Parsing the data\n",
    "df = spark.read.text(\"ghcnd-stations.txt\")\n",
    "wi_df = df.select(substring(\"value\", 1, 11).alias(\"id\"), substring(\"value\", 41, 30).alias(\"name\"), substring(\"value\", 39, 2).alias(\"state\")) \\\n",
    "    .filter(\"state == 'WI'\")\n",
    "results = wi_df.collect()\n",
    "insert_stations = session.prepare(\"\"\"\n",
    "INSERT INTO stations\n",
    "(id, name)\n",
    "VALUES\n",
    "(?, ?)\n",
    "\"\"\")\n",
    "for record in results:\n",
    "    session.execute(insert_stations, (record[\"id\"], record[\"name\"]))"
   ]
  },
  {
   "cell_type": "code",
   "execution_count": 205,
   "id": "245efffc-6767-4466-8449-c70ebc238d02",
   "metadata": {},
   "outputs": [
    {
     "data": {
      "text/html": [
       "<div>\n",
       "<style scoped>\n",
       "    .dataframe tbody tr th:only-of-type {\n",
       "        vertical-align: middle;\n",
       "    }\n",
       "\n",
       "    .dataframe tbody tr th {\n",
       "        vertical-align: top;\n",
       "    }\n",
       "\n",
       "    .dataframe thead th {\n",
       "        text-align: right;\n",
       "    }\n",
       "</style>\n",
       "<table border=\"1\" class=\"dataframe\">\n",
       "  <thead>\n",
       "    <tr style=\"text-align: right;\">\n",
       "      <th></th>\n",
       "      <th>id</th>\n",
       "      <th>date</th>\n",
       "      <th>name</th>\n",
       "      <th>record</th>\n",
       "    </tr>\n",
       "  </thead>\n",
       "  <tbody>\n",
       "    <tr>\n",
       "      <th>0</th>\n",
       "      <td>USC00479053</td>\n",
       "      <td>None</td>\n",
       "      <td>W BEND FIRE STN #2</td>\n",
       "      <td>None</td>\n",
       "    </tr>\n",
       "    <tr>\n",
       "      <th>1</th>\n",
       "      <td>USC00476398</td>\n",
       "      <td>None</td>\n",
       "      <td>PARK FALLS DNR HQ</td>\n",
       "      <td>None</td>\n",
       "    </tr>\n",
       "    <tr>\n",
       "      <th>2</th>\n",
       "      <td>USC00470268</td>\n",
       "      <td>None</td>\n",
       "      <td>APPOLONIA</td>\n",
       "      <td>None</td>\n",
       "    </tr>\n",
       "    <tr>\n",
       "      <th>3</th>\n",
       "      <td>USC00474110</td>\n",
       "      <td>None</td>\n",
       "      <td>JUNEAU</td>\n",
       "      <td>None</td>\n",
       "    </tr>\n",
       "    <tr>\n",
       "      <th>4</th>\n",
       "      <td>USC00475525</td>\n",
       "      <td>None</td>\n",
       "      <td>MINONG 5 WSW</td>\n",
       "      <td>None</td>\n",
       "    </tr>\n",
       "    <tr>\n",
       "      <th>5</th>\n",
       "      <td>US1WIMN0013</td>\n",
       "      <td>None</td>\n",
       "      <td>TOMAH 7.5 SSW</td>\n",
       "      <td>None</td>\n",
       "    </tr>\n",
       "    <tr>\n",
       "      <th>6</th>\n",
       "      <td>US1WIWK0039</td>\n",
       "      <td>None</td>\n",
       "      <td>OCONOMOWOC 0.6 N</td>\n",
       "      <td>None</td>\n",
       "    </tr>\n",
       "    <tr>\n",
       "      <th>7</th>\n",
       "      <td>US1WIBR0019</td>\n",
       "      <td>None</td>\n",
       "      <td>RICE LAKE 5.8 N</td>\n",
       "      <td>None</td>\n",
       "    </tr>\n",
       "    <tr>\n",
       "      <th>8</th>\n",
       "      <td>USC00472626</td>\n",
       "      <td>None</td>\n",
       "      <td>EPHRAIM 1NE-WWTP</td>\n",
       "      <td>None</td>\n",
       "    </tr>\n",
       "    <tr>\n",
       "      <th>9</th>\n",
       "      <td>USC00477174</td>\n",
       "      <td>None</td>\n",
       "      <td>RIDGELAND 1NNE</td>\n",
       "      <td>None</td>\n",
       "    </tr>\n",
       "  </tbody>\n",
       "</table>\n",
       "</div>"
      ],
      "text/plain": [
       "            id  date                            name record\n",
       "0  USC00479053  None   W BEND FIRE STN #2              None\n",
       "1  USC00476398  None   PARK FALLS DNR HQ               None\n",
       "2  USC00470268  None   APPOLONIA                       None\n",
       "3  USC00474110  None   JUNEAU                          None\n",
       "4  USC00475525  None   MINONG 5 WSW                    None\n",
       "5  US1WIMN0013  None   TOMAH 7.5 SSW                   None\n",
       "6  US1WIWK0039  None   OCONOMOWOC 0.6 N                None\n",
       "7  US1WIBR0019  None   RICE LAKE 5.8 N                 None\n",
       "8  USC00472626  None   EPHRAIM 1NE-WWTP                None\n",
       "9  USC00477174  None   RIDGELAND 1NNE                  None"
      ]
     },
     "execution_count": 205,
     "metadata": {},
     "output_type": "execute_result"
    }
   ],
   "source": [
    "# import pandas as pd\n",
    "# pd.DataFrame(session.execute(\"select * from stations limit 10\"))"
   ]
  },
  {
   "cell_type": "code",
   "execution_count": null,
   "id": "f8cf0679-5319-4c43-95d8-e6c6a4a046fd",
   "metadata": {},
   "outputs": [],
   "source": []
  }
 ],
 "metadata": {
  "kernelspec": {
   "display_name": "Python 3 (ipykernel)",
   "language": "python",
   "name": "python3"
  },
  "language_info": {
   "codemirror_mode": {
    "name": "ipython",
    "version": 3
   },
   "file_extension": ".py",
   "mimetype": "text/x-python",
   "name": "python",
   "nbconvert_exporter": "python",
   "pygments_lexer": "ipython3",
   "version": "3.10.6"
  }
 },
 "nbformat": 4,
 "nbformat_minor": 5
}
